{
 "cells": [
  {
   "attachments": {},
   "cell_type": "markdown",
   "metadata": {},
   "source": [
    "## Krypto Blatt 3"
   ]
  },
  {
   "attachments": {},
   "cell_type": "markdown",
   "metadata": {},
   "source": [
    "## 17)\n",
    "\n",
    "$P_{\\scriptstyle{0}} = \\frac{1}{4}$ <br>\n",
    "$P_{\\scriptstyle{1}} = \\frac{1}{4}$ <br>\n",
    "$P_{\\scriptstyle{2}} = \\frac{1}{4}$<br>\n",
    "$P_{\\scriptstyle{3}} = \\frac{1}{4}$ <br>\n",
    "H(w) = $-(\\frac{1}{4}*log_{\\scriptstyle{4}}\\frac{1}{4}+\\frac{1}{4}*log_{\\scriptstyle{4}}\\frac{1}{4}+\\frac{1}{4}*log_{\\scriptstyle{4}}\\frac{1}{4}+\\frac{1}{4}*log_{\\scriptstyle{4}}\\frac{1}{4})$ = $-(log_{\\scriptstyle{4}}\\frac{1}{4})$ = $\\underline{\\underline{1}}$"
   ]
  },
  {
   "attachments": {},
   "cell_type": "markdown",
   "metadata": {},
   "source": [
    "$P_{\\scriptstyle{0}} = \\frac{1}{4}$ <br>\n",
    "$P_{\\scriptstyle{1}} = \\frac{1}{2}$ <br>\n",
    "$P_{\\scriptstyle{2}} = 0$ <br>\n",
    "$P_{\\scriptstyle{3}} = \\frac{1}{4}$ <br>\n",
    "H(w) = $-(\\frac{1}{4}*log_{\\scriptstyle{4}}\\frac{1}{4}+\\frac{1}{2}*log_{\\scriptstyle{4}}\\frac{1}{2}+0*log_{\\scriptstyle{4}}0+\\frac{1}{4}*log_{\\scriptstyle{4}}\\frac{1}{4})$ = $-(\\frac{1}{2}log_{\\scriptstyle{4}}\\frac{1}{4}+\\frac{1}{2}log_{\\scriptstyle{4}}\\frac{1}{2})$ = $\\underline{\\underline{0.75}}$"
   ]
  },
  {
   "attachments": {},
   "cell_type": "markdown",
   "metadata": {},
   "source": [
    "$P_{\\scriptstyle{0}} = 0$ <br>\n",
    "$P_{\\scriptstyle{1}} = 0$ <br>\n",
    "$P_{\\scriptstyle{2}} = \\frac{1}{2}$ <br>\n",
    "$P_{\\scriptstyle{3}} = \\frac{1}{2}$ <br>\n",
    "H(w) = $-(0*log_{\\scriptstyle{4}}0+0*log_{\\scriptstyle{4}}0+\\frac{1}{2}*log_{\\scriptstyle{4}}\\frac{1}{2}+\\frac{1}{2}*log_{\\scriptstyle{4}}\\frac{1}{2})$ = $-(log_{\\scriptstyle{4}}\\frac{1}{2})$ = $\\underline{\\underline{0.5}}$"
   ]
  },
  {
   "attachments": {},
   "cell_type": "markdown",
   "metadata": {},
   "source": [
    "$P_{\\scriptstyle{0}} = \\frac{1}{8}$ <br>\n",
    "$P_{\\scriptstyle{1}} = \\frac{1}{4}$ <br>\n",
    "$P_{\\scriptstyle{2}} = \\frac{1}{8}$ <br>\n",
    "$P_{\\scriptstyle{3}} = \\frac{1}{2}$ <br>\n",
    "H(w) = $-(\\frac{1}{8}*log_{\\scriptstyle{4}}\\frac{1}{8}+\\frac{1}{4}*log_{\\scriptstyle{4}}\\frac{1}{4}+\\frac{1}{8}*log_{\\scriptstyle{4}}\\frac{1}{8}+\\frac{1}{2}*log_{\\scriptstyle{4}}\\frac{1}{2})$ = $-(\\frac{1}{4}*log_{\\scriptstyle{4}}\\frac{1}{8}+\\frac{1}{4}*log_{\\scriptstyle{4}}\\frac{1}{4}+\\frac{1}{2}*log_{\\scriptstyle{4}}\\frac{1}{2})$ = $\\underline{\\underline{0.875}}$"
   ]
  },
  {
   "attachments": {},
   "cell_type": "markdown",
   "metadata": {},
   "source": [
    "## 18)\n",
    "\n",
    "#### a) \n",
    "\n",
    "$w = 011101110111...$\n",
    "\n",
    "Dabei können nur folgende Wörter gebildet werden in der Tropologie:\n",
    "\n",
    "$w_1 = 0111, w_2 = 1110, w_3 = 1101, w_4 = 1011$ \n",
    "\n",
    "$h(w) = \\lim_{x\\to\\infty} \\frac{1}{m} * \\log_{2}(4)$ = $ \\lim_{x\\to\\infty} \\frac{1}{m} * 2$ = $ \\lim_{x\\to\\infty} \\frac{2}{m}$ = $0$\n",
    "\n",
    "#### b) \n",
    "\n",
    "$w = 0w_10w_30w_5...$\n",
    "\n",
    "$w_i$ ist dabei zufällig\n",
    "    \n",
    "$h(w) = \\lim_{x\\to\\infty} \\frac{1}{m} * \\log_{2}(\\sqrt{2^m})$ = $\\frac{1}{2}$\n",
    "\n",
    "#### c)\n",
    "\n",
    "$w = w_0w_1w_2w_3...$ wobei $w_i = 1$, falls i eine Zweierpotenz ist\n",
    "\n",
    "Gucken wir uns mal die Möglichkeiten an die wir haben\n",
    "\n",
    "Bei den Fall mit Zweierpotenz bei 4 Zahlen:\n",
    "\n",
    "    2 Möglichkeiten\n",
    "\n",
    "ohne:\n",
    "\n",
    "    16 Möglichkeiten\n",
    "\n",
    "mit Zweierpotenz 8 Zahlen:\n",
    "\n",
    "    16 Möglichkeiten\n",
    "\n",
    "ohne:\n",
    "\n",
    "    256 Möglichkeiten\n",
    "\n",
    "mit Zweierpotenz 16 Zahlen:\n",
    "\n",
    "    2048 Möglichkeiten\n",
    "\n",
    "ohne: \n",
    "\n",
    "    65536 Möglichkeiten\n",
    "\n",
    "Hier kann man ein Muster erkennen: 16:2 = 8, 256:16 = 16, 65536:2048 = 32....\n",
    "\n",
    "Bei jeder Zweierpotenz die dazu kommt werden die Möglichkeiten halbiert zum davorigen Verhältnis.\n",
    "\n",
    "Dadurch kann man auf folgendes Ergebnis stoßen: \n",
    "\n",
    "TODO im PC In mathematica eintippen\n",
    "\n",
    "$h(w) = \\lim_{x\\to\\infty} \\frac{1}{m} * \\log_{2}(\\frac{2^m}{2m})$ = 1"
   ]
  },
  {
   "attachments": {},
   "cell_type": "markdown",
   "metadata": {},
   "source": [
    "## 19)"
   ]
  },
  {
   "attachments": {},
   "cell_type": "markdown",
   "metadata": {},
   "source": [
    "$x_{\\scriptstyle{i-1}}$ = 13 <br>\n",
    "$x_{\\scriptstyle{i}}$ = 223 <br>\n",
    "$x_{\\scriptstyle{i+1}}$ = 793 <br>\n",
    "$x_{\\scriptstyle{i+2}}$ = 483 <br>\n",
    "\n",
    "m' = $(x_{\\scriptstyle{i}}-x_{\\scriptstyle{i+1}})^{2}-(x_{\\scriptstyle{i+1}}-x_{\\scriptstyle{i+2}})(x_{\\scriptstyle{i-1}}-x_{\\scriptstyle{i}})$ <br>\n",
    "m' = $(223-483)^{2}-(483-593)(13-223)$ <br>\n",
    "m' = 44500"
   ]
  },
  {
   "cell_type": "code",
   "execution_count": 18,
   "metadata": {},
   "outputs": [
    {
     "name": "stdout",
     "output_type": "stream",
     "text": [
      "2.7142857142857144\n"
     ]
    }
   ],
   "source": [
    "s = (223-793)/(13-223)\n",
    "\n",
    "print(s)"
   ]
  },
  {
   "cell_type": "code",
   "execution_count": 20,
   "metadata": {},
   "outputs": [
    {
     "name": "stdout",
     "output_type": "stream",
     "text": [
      "187.71428571428567\n"
     ]
    }
   ],
   "source": [
    "t=(1/2)*((223+793)-(s*13)-(s*223))\n",
    "\n",
    "print(t)"
   ]
  },
  {
   "cell_type": "code",
   "execution_count": 49,
   "metadata": {},
   "outputs": [],
   "source": [
    "m = 8900\n",
    "for x in range(300):\n",
    "    for y in range(300):\n",
    "        for _ in range(3):\n",
    "            i = 0\n",
    "\n",
    "            n = (x*n + y) % m\n",
    "            if(n == 13 or n == 223 or n == 793 or n == 483):\n",
    "                i += 1\n",
    "\n",
    "            if(i == 3):\n",
    "                print(x, y)"
   ]
  },
  {
   "attachments": {},
   "cell_type": "markdown",
   "metadata": {},
   "source": [
    "## 20)"
   ]
  },
  {
   "cell_type": "code",
   "execution_count": 32,
   "metadata": {},
   "outputs": [],
   "source": [
    "def readFiles():\n",
    "    f1 = open(\"text1.txt\", \"r\")\n",
    "    f2 = open(\"text2.txt\", \"r\")\n"
   ]
  },
  {
   "cell_type": "code",
   "execution_count": 46,
   "metadata": {},
   "outputs": [
    {
     "name": "stdout",
     "output_type": "stream",
     "text": [
      "Shannon-Entropie Text 1: \n",
      "0.8697828724411988\n",
      "\n",
      "Shannon-Entropie Text 2: \n",
      "0.9924111445893722\n"
     ]
    }
   ],
   "source": [
    "import math as m\n",
    "\n",
    "f1 = open(\"text1.txt\", \"r\")\n",
    "f2 = open(\"text2.txt\", \"r\")\n",
    "\n",
    "def shannon(file):\n",
    "    cnt = [0]*26\n",
    "\n",
    "    for line in file:\n",
    "        numbers = line.split(\" \")\n",
    "        for i in range(len(numbers)):\n",
    "            n = int(numbers[i])\n",
    "            cnt[n] = cnt[n] + 1\n",
    "\n",
    "    amntChars = 0\n",
    "    for i in range(26):\n",
    "        amntChars += cnt[i]\n",
    "\n",
    "    h = 0\n",
    "    for i in range(26):\n",
    "        p = cnt[i]/amntChars\n",
    "        if p != 0:\n",
    "            h += p*m.log(p, 26)\n",
    "    h = h*(-1)\n",
    "    \n",
    "    print(h)\n",
    "\n",
    "print(\"Shannon-Entropie Text 1: \")\n",
    "shannon(f1)\n",
    "print(\"\\nShannon-Entropie Text 2: \")\n",
    "shannon(f2)"
   ]
  },
  {
   "cell_type": "code",
   "execution_count": 47,
   "metadata": {},
   "outputs": [
    {
     "name": "stdout",
     "output_type": "stream",
     "text": [
      "Text1:  NUNREISTDUALSOZUMERSTENMALINDEINEMLEBENNACHQUALITYLANDBISTDUSCHONAUFGEREGTJAAUSGUTEMGRUNDDENNBALDBETRITTSTDUDASLANDDASSOWICHTIGISTDASSMITSEINERGRUENDUNGEINENEUEZEITRECHNUNGBEGANNDIEQUALITYTIMEDADUDICHINQUALITYLANDNOCHNICHTAUSKENNSTHABENWIRDIRHIEREINPAAREINLEITENDEINFORMATIONENZUSAMMENGESTELLTZWEIJAHREVORDERGRUENDUNGVONQUALITYLANDZWEIJAHREVORQUALITYTIMEALSOGABESEINEOEKONOMISCHEKRISESOLCHENAUSMASSESDASSDIEMENSCHENSIEALSJAHRHUNDERTKRISEBEZEICHNETENESWARBEREITSDIEDRITTEJAHRHUNDERTKRISEINNERHALBEINERDEKADEVONDERPANIKDERMAERKTEMITGERISSENBATDIEREGIERUNGDIEUNTERNEHMENSBERATERVONBIGBUSINESSCONSULTINGUMHILFEUNDDIESEENTSCHIEDENDASLANDBRAUCHEVORALLEMEINENNEUENNAMENDERALTEWARABGENUTZTUNDINSPIRIERTELAUTUMFRAGENNURNOCHEWIGGESTRIGENATIONALISTENMITGERINGERKAUFKRAFT\n",
      "\n",
      "\n",
      "Text2:  LFOWBXHRAVMJBUQGVVXIWFTXTYVHNLOLTMEVQSFFMVBXOKNLTFZCYIRGWSKHAYDAAKQDTYTLFYTOHFKZFUAMQVIQRLIHDWSGTADLMDXGTXMFFGJYNVGDTVMBZNOZZZLLSZUDLMHLKBNLZBZUTREOYYUZRHJYMQVODHCRNGRYNYPFECUQFDSCBAVKMUERERHSWNTANZJRKXALCXRTXKUCFYMACEWTTDFRJQRLCQLRXEIHHUTKYGPNAFIILKAWYWXJYSSVYDTWWXOLPABGDFXNBMCCQGTQBZHCBDOKHFAHEXBYGUTFNWJUGCEVOKGBSTEZUAGPBYUXZUBHRNTBZZHOWWNZTCTVEYVREUMRVVDENETDATFQZZLKAQTXADSTIGMHDYUGCQVRWIOTIGDSCZAHENTXJLWXNSUEBIUORRCILORFOEEEKSUKTDAIGSJURMWWEFRMCXLIJJOLRZDTSVYSRITGMTDTVYHCWNRSGRRCIVCWVCXKIIVPNRPOACREIGUMUZTHNZKSJSVQSMNQVRKNRMEGQJZTNATWNTRIHFRXEMUDGKCRFXMWFMXSKGSTMHVGZNSIGGZQDZAZRQEZXYJHGHGJHVXCVXVGWGPHXRMTIIQDQFBRLAWZIPYCIIZKIMZUXTNKMULPPNBGEEKHSVHZTJPPMJKHNUZIKPEBBLJZQKHRVSCWGLNUUWZCORBEDMYIAIKSDITTQRJWGRJPGGRLNFTVXSCPJSOMFCBHEIOLDQTKFMNAIGGYSGS\n"
     ]
    }
   ],
   "source": [
    "f1 = open(\"text1.txt\", \"r\")\n",
    "f2 = open(\"text2.txt\", \"r\")\n",
    "\n",
    "\n",
    "text1 = \"\"\n",
    "text2 = \"\"\n",
    "\n",
    "for line in f1:\n",
    "    numbers = line.split(\" \")\n",
    "    for i in range(len(numbers)):\n",
    "        char = chr(int(numbers[i]) + 65)\n",
    "        text1 = text1 + char\n",
    "\n",
    "print(\"Text1: \", text1)\n",
    "print(\"\\n\")\n",
    "\n",
    "for line in f2:\n",
    "    numbers = line.split(\" \")\n",
    "    for i in range(len(numbers)):\n",
    "        char = chr(int(numbers[i]) + 65)\n",
    "        text2 = text2 + char\n",
    "\n",
    "print(\"Text2: \", text2)"
   ]
  },
  {
   "attachments": {},
   "cell_type": "markdown",
   "metadata": {},
   "source": [
    "Text 1 ist der deutsche Text.\n",
    "\n",
    "Qualityland -- Marc-Uwe Kling"
   ]
  }
 ],
 "metadata": {
  "kernelspec": {
   "display_name": "Python 3",
   "language": "python",
   "name": "python3"
  },
  "language_info": {
   "codemirror_mode": {
    "name": "ipython",
    "version": 3
   },
   "file_extension": ".py",
   "mimetype": "text/x-python",
   "name": "python",
   "nbconvert_exporter": "python",
   "pygments_lexer": "ipython3",
   "version": "3.9.16"
  },
  "orig_nbformat": 4
 },
 "nbformat": 4,
 "nbformat_minor": 2
}
