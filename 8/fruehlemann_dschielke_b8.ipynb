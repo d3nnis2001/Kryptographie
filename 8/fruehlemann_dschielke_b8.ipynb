{
 "cells": [
  {
   "attachments": {},
   "cell_type": "markdown",
   "metadata": {},
   "source": [
    "# Übungsblatt 8\n",
    "---"
   ]
  },
  {
   "attachments": {},
   "cell_type": "markdown",
   "metadata": {},
   "source": [
    "## Aufgabe 29)\n",
    "\n",
    "### a)\n",
    "\n",
    "(G, g, $g^a$) = ($Z^*_{101}$, 2, 18)\n",
    "\n",
    "Mit r = 7:\n",
    "\n",
    "k = $(g^a)^r$ <=> k = $18^7$ <=> k = 612220032\n",
    "\n",
    "c = m*k <=> c = 11*612220032 <=> c = 6734420352\n",
    "\n",
    "$g^r$ = 2^7 <=> $g^r$ = 128\n",
    "\n",
    "Bob sendet (6734420352, 128)\n",
    "\n",
    "### b)\n",
    "\n",
    "a = 39, da nur $2^{39}$ mod 101 = 18\n",
    "\n",
    "### c)\n",
    "\n",
    "k = $(g^r)^a$ mod p <=> k = $27^{39}$ mod 101 <=> k = 48\n",
    "\n",
    "m = 23*$k^{-1}$ mod p <=> m = 23*($48^{-1}$ mod 101) mod 101 <=> m = ?????\n",
    "\n",
    "### d)\n",
    "\n",
    "r = 56, da nur $2^{56}$ mod 101 = 37"
   ]
  },
  {
   "attachments": {},
   "cell_type": "markdown",
   "metadata": {},
   "source": [
    "## Aufgabe 32)\n",
    "\n",
    "Zeichnen lassen und aus 2D Abbildung auf Form geschlossen\n",
    "\n",
    "$Q_{1}$ ist Hyperbel, da Form aus zwei Kurven besteht\n",
    "\n",
    "$Q_{2}$ ist Ellipse, da Form einen Kreis bildet\n",
    "\n",
    "$Q_{3}$ ist Hyperbel, da die From wieder aus zwei \"Kruven\" besteht\n",
    "\n",
    "$Q_{4}$ ist Parabel. Beweis:\n",
    "\n",
    "Die allgemeine Form einer Parabel lautet: a = $d*b^2 + e*b + c\n",
    "\n",
    "Wenn nun gezeigt werden soll, dass $Q_{4}$ diesem Schema entspricht, muss dies nun umgeformt werden.\n",
    "\n",
    "$0 = y^2-x-y-1$\n",
    "\n",
    "<=> $0 = y^2+y-x-1$\n",
    "\n",
    "<=> $x = y^2+y-1$ \n",
    "\n",
    "Beachte: a = $d*b^2 + e*b + c . Wenn nun gilt a=x, b=y, c=-1, d=1, e=1, dann:\n",
    "\n",
    "$a = db^2 + eb + c$ <=> $x = 1y^2+1y-1$\n",
    "\n",
    "Somit ist gezeigt, dass $Q_{4}$ der Form einer Parabel entspricht, wodurch diese keine Ellipse sein kann. Des weiteren gibt es bei dieser gerade keine zwei geraden, die als Asymptoten agieren könnten, was gegen eine Hyperbel spricht."
   ]
  }
 ],
 "metadata": {
  "kernelspec": {
   "display_name": "Python 3",
   "language": "python",
   "name": "python3"
  },
  "language_info": {
   "codemirror_mode": {
    "name": "ipython",
    "version": 3
   },
   "file_extension": ".py",
   "mimetype": "text/x-python",
   "name": "python",
   "nbconvert_exporter": "python",
   "pygments_lexer": "ipython3",
   "version": "3.10.8"
  },
  "orig_nbformat": 4
 },
 "nbformat": 4,
 "nbformat_minor": 2
}
