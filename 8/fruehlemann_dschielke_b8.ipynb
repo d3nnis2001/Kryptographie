{
 "cells": [
  {
   "attachments": {},
   "cell_type": "markdown",
   "metadata": {},
   "source": [
    "# Übungsblatt 8\n",
    "---"
   ]
  },
  {
   "attachments": {},
   "cell_type": "markdown",
   "metadata": {},
   "source": [
    "## 32)\n",
    "\n",
    "Zeichnen lassen und aus 2D Abbildung auf Form geschlossen\n",
    "\n",
    "$Q_{1}$ ist Hyperbel, da Form aus zwei Kurven besteht\n",
    "\n",
    "$Q_{2}$ ist Ellipse, da Form einen Kreis bildet\n",
    "\n",
    "$Q_{3}$ ist Hyperbel, da die From wieder aus zwei \"Kruven\" besteht\n",
    "\n",
    "$Q_{4}$ ist Parabel. Beweis:\n",
    "\n",
    "Die allgemeine Form einer Parabel lautet: a = $d*b^2 + e*b + c\n",
    "\n",
    "Wenn nun gezeigt werden soll, dass $Q_{4}$ diesem Schema entspricht, muss dies nun umgeformt werden.\n",
    "\n",
    "$0 = y^2-x-y-1$\n",
    "\n",
    "<=> $0 = y^2+y-x-1$\n",
    "\n",
    "<=> $x = y^2+y-1$ \n",
    "\n",
    "Beachte: a = $d*b^2 + e*b + c . Wenn nun gilt a=x, b=y, c=-1, d=1, e=1, dann:\n",
    "\n",
    "$a = db^2 + eb + c$ <=> $x = 1y^2+1y-1$\n",
    "\n",
    "Somit ist gezeigt, dass $Q_{4}$ der Form einer Parabel entspricht, wodurch diese keine Ellipse sein kann. Des weiteren gibt es bei dieser gerade keine zwei geraden, die als Asymptoten agieren könnten, was gegen eine Hyperbel spricht."
   ]
  }
 ],
 "metadata": {
  "kernelspec": {
   "display_name": "Python 3",
   "language": "python",
   "name": "python3"
  },
  "language_info": {
   "codemirror_mode": {
    "name": "ipython",
    "version": 3
   },
   "file_extension": ".py",
   "mimetype": "text/x-python",
   "name": "python",
   "nbconvert_exporter": "python",
   "pygments_lexer": "ipython3",
   "version": "3.10.8"
  },
  "orig_nbformat": 4
 },
 "nbformat": 4,
 "nbformat_minor": 2
}
