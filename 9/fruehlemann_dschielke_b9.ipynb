{
 "cells": [
  {
   "attachments": {},
   "cell_type": "markdown",
   "metadata": {},
   "source": [
    "# Übungsblatt 9\n",
    "---"
   ]
  },
  {
   "attachments": {},
   "cell_type": "markdown",
   "metadata": {},
   "source": [
    "## Aufgabe 33)\n",
    "\n",
    "### a)\n",
    "\n",
    "Definition 6.1.: <br> Sei K ein Körper (hier immer: K = R, oder K = $F_p$ für eine Primzahl p > 3).\n",
    "Seien a, b ∈ K mit $4a^3 + 27b^2 \\neq 0$. Dann ist<br>\n",
    "$\\quad\\quad$ E = {(x, y) ∈ K^2 | y^2 = x^3 + ax + b} ∪ {$\\mathcal{O}$} <br>\n",
    "eine elliptische Kurve über K.<br><br>\n",
    "\n",
    "\n",
    "1. Zeigen, dass $y^2 = x^3 + 3x + 1$ eine elliptische Kurve ist:\n",
    "\n",
    "Mit a = 3, b = 1 gilt:<br>\n",
    "$4*3^3 + 27*1^2 = 135$ mod 7 = $\\underline{\\underline{2 \\neq 0}}$. <br>\n",
    "Durch Def 6.1 ist bewiesen, dass $y^2 = x^3 + 3x + 1$ $\\underline{eine}$ elliptische Kurve ist.\n",
    "\n",
    "2. Zeigen, dass $y^2 = x^3 + x + 2$ eine elliptische Kurve ist:\n",
    "\n",
    "Mit a = 1, b = 2 gilt:<br>\n",
    "$4*1^3 + 27*2^2 = 112$ mod 7 = $\\underline{\\underline{0}}$. <br>\n",
    "Durch Def 6.1 und Bem 6.1 is bewiesen, dass $y^2 = x^3 + x + 2$ $\\underline{keine}$ elliptische Kurve ist.\n",
    "\n",
    "### b)\n",
    "\n",
    "Wenn die Punkte auf der Ellipse liegen sollen, dass müssen diese $y^2 = x^3 + 3x + 1$ lösen.\n",
    "\n",
    "p = (5, 1):<br>1 = $5^3+3*5+1$ mod 7 <=>  1 = 141 mod 7 <=> 1 = 1, somit liegt p in E.<br> <br>\n",
    "q = (3, 1):<br>1 = $3^3+3*3+1$ mod 7 <=> 1 = 37 mod 7 <=> 1 $\\neq$ 2, somit liegt p nicht in E.<br> <br>\n",
    "r = (2, -1):<br>-1 mod 7 = $2^3+3*2+1$ mod 7 <=> 6 = 15 mod 7 <=> 6 $\\neq$ 1, somit liegt r nicht in E.\n",
    "\n",
    "Ergebnis: p liegt in E, q und r nicht.\n",
    "\n",
    "\n",
    "### c)\n",
    "\n",
    "Inverse Elemente:\n",
    "\n",
    "p' = (2, -6), q' = (3, -3), r = (6, -2)\n",
    "\n",
    "\n",
    "### d)\n",
    "\n",
    "Gruppenoperation in elliptischen Kurven.<br>Seien p = ($x_p$, $y_p$) und q = ($x_q$, $y_q$) Punkte\n",
    "in einer elliptischen Kurve. Dann ist p $\\odot$ q gleich <br>\n",
    "• $\\mathcal{O}$, falls ($x_p$, $y_p$) = ($x_q$, −$y_q$) <br>\n",
    "• ($x_r$, λ($x_p$ − $x_r$) − $y_p$) mit $x_r$ = $λ^2$ − $2x_p$, λ = ($3x^2_p$ + a)$(2y_p)^{-1}$, falls p = q, <br>\n",
    "• ($x_r$, λ($x_p$ − $x_r$) − $y_p$) mit $x_r$ = $λ^2$ − $x_p$ − $x_q$, λ = ($y_q$ − $y_p$)$(x_q − x_p)^{-1}$ sonst.\n",
    "\n",
    "1. (2, 1) $\\odot$ (3, 3), 3. Formel, da p $\\neq$ q und auch ($x_p$, $y_p$) = ($x_q$, −$y_q$): \n",
    "\n",
    "λ = $(3-1)*(3-2)^{-1}$ <=> λ = 2 <br>\n",
    "$x_r$ = $2^2$ − 2 − 3 <=> $x_r$ = -1 mod 7 <=> $x_r$ = 6 <br>\n",
    "λ($x_p$ − $x_r$) − $y_p$ <=> 2*(2 - 6) - 3 = -11 <=> λ($x_p$ − $x_r$) − $y_p$ = 3\n",
    "\n",
    "==> p $\\odot$ q = (6, 3)\n",
    "\n",
    "2. (4, 0) $\\odot$ (5, 1), 3. Formel, da p $\\neq$ q und auch ($x_p$, $y_p$) = ($x_q$, −$y_q$): \n",
    "\n",
    "λ = $(1-0)*(5-4)^{-1}$ <=> λ = 1 <br>\n",
    "$x_r$ = $1^2$ − 4 − 5 <=> $x_r$ = -8 mod 7 <=> $x_r$ = 6<br>\n",
    "λ($x_p$ − $x_r$) − $y_p$ <=> 1*(4 - 6) - 0 = -2 mod 7 <=> λ($x_p$ − $x_r$) − $y_p$ = 5\n",
    "\n",
    "==> p $\\odot$ q = (6, 5)\n",
    "\n",
    "\n",
    "### e)\n",
    "\n",
    "Da 0 = -0 gilt und $\\mathcal{O}$, falls ($x_p$, $y_p$) = ($x_q$, −$y_q$) bei den Gruppenoperation in elliptischen Kurven gilt, ist (4, 0) $\\odot$ (4, 0) = $\\mathcal{O}$\n",
    "\n",
    "(4, 0) $\\odot$ (4, 0) = (4, 0) $\\odot$ (4, -0),<br> somit $\\underline{\\underline{(4, 0) \\odot (4, 0) = \\mathcal{O}}}$"
   ]
  },
  {
   "attachments": {},
   "cell_type": "markdown",
   "metadata": {},
   "source": [
    "## Aufgabe 34)\n",
    "\n",
    "### a)"
   ]
  },
  {
   "attachments": {},
   "cell_type": "markdown",
   "metadata": {},
   "source": [
    "Wir haben gegeben: $y^2 = x^3 - 3x + b$ und müssen überprüfen für welche b werte die Formel:\n",
    "\n",
    "$4a^3 + 27b^2$ ungleich $0$. \n",
    "\n",
    "Da wir in diesem Beispiel im Reelen Raum arbeiten müssen wir die Gleichung einfach nach 0 setzen.\n",
    "\n",
    "$-12^3 + 27b^2$ = 0\n",
    "\n",
    "$27b^2$ = -1728 Jetzt noch / 27 und Wurzel ziehen.\n",
    "\n",
    "b = 8 und b = -8 kommt raus. Bei diesen Werten liefert die Gleichung keine elliptische Kurve.\n",
    "\n",
    "Nun zu $y^2 = x^3 + x + 2$:\n",
    "\n",
    "$27b^2$ = 0\n",
    "\n",
    "b = 0\n",
    "\n",
    "Hier ist es ganz offensichtlich da kein a enthalten ist und b nur bei der Zahl 0 auf 0 kommen kann.\n",
    "\n",
    "Nun zeichnen wir das ganze:"
   ]
  },
  {
   "cell_type": "code",
   "execution_count": 2,
   "metadata": {},
   "outputs": [
    {
     "name": "stderr",
     "output_type": "stream",
     "text": [
      "/var/folders/6k/qhxq2vds24v690rsqtznkwqm0000gn/T/ipykernel_93927/2716842359.py:5: RuntimeWarning: invalid value encountered in sqrt\n",
      "  return np.sqrt(x**3 - 3*x + b)\n",
      "/var/folders/6k/qhxq2vds24v690rsqtznkwqm0000gn/T/ipykernel_93927/2716842359.py:8: RuntimeWarning: invalid value encountered in sqrt\n",
      "  return np.sqrt(x**3 + b)\n"
     ]
    },
    {
     "data": {
      "image/png": "[encoded data removed]",
      "text/plain": [
       "<Figure size 640x480 with 1 Axes>"
      ]
     },
     "metadata": {},
     "output_type": "display_data"
    }
   ],
   "source": [
    "import numpy as np\n",
    "import matplotlib.pyplot as plt\n",
    "\n",
    "def curve1(x, b):\n",
    "    return np.sqrt(x**3 - 3*x + b)\n",
    "\n",
    "def curve2(x, b):\n",
    "    return np.sqrt(x**3 + b)\n",
    "\n",
    "x = np.linspace(-10, 10, 400)\n",
    "\n",
    "b_values_curve1 = [-8, 8]\n",
    "\n",
    "b_values_curve2 = [0]\n",
    "\n",
    "for b in b_values_curve1:\n",
    "    y = curve1(x, b)\n",
    "    plt.plot(x, y, label=f\"b = {b}\")\n",
    "\n",
    "for b in b_values_curve2:\n",
    "    y = curve2(x, b)\n",
    "    plt.plot(x, y, label=f\"b = {b}\")\n",
    "\n",
    "plt.xlabel(\"x\")\n",
    "plt.ylabel(\"y\")\n",
    "plt.legend()\n",
    "plt.show()\n"
   ]
  },
  {
   "attachments": {},
   "cell_type": "markdown",
   "metadata": {},
   "source": [
    "Wegen dem Spezialfall, dass ein b existiert wofür die Gleichung = 0 ist liefert diese Gleichung keine Gruppe."
   ]
  },
  {
   "attachments": {},
   "cell_type": "markdown",
   "metadata": {},
   "source": [
    "## Aufgabe 35)\n",
    "\n",
    "### a)"
   ]
  },
  {
   "cell_type": "code",
   "execution_count": 17,
   "metadata": {},
   "outputs": [],
   "source": [
    "\n",
    "def isPrime(n):\n",
    "    if n == 2:\n",
    "        return True\n",
    "    if n % 2 == 0 or n <= 1:\n",
    "        return False\n",
    "\n",
    "    sqr = int(np.sqrt(n)) + 1\n",
    "\n",
    "    for divisor in range(3, sqr, 2):\n",
    "        if n % divisor == 0:\n",
    "            return False\n",
    "    return True"
   ]
  },
  {
   "cell_type": "code",
   "execution_count": null,
   "metadata": {},
   "outputs": [],
   "source": [
    "p = 13\n",
    "anzahl = 0\n",
    "anzahlnot = 0\n",
    "for i in range(1, 13):\n",
    "    for j in range(1, 13):\n",
    "        if isPrime(np.mod(i**3 + j**2, 13)):\n",
    "            print(f\"({i}, {j})\")\n",
    "            anzahlnot += 1\n",
    "        else:\n",
    "            anzahl += 1\n",
    "print(f\"Anzahl: {anzahlnot}\")\n",
    "print(f\"Prozentualler Anteil: {anzahlnot/anzahl*100}\")"
   ]
  },
  {
   "cell_type": "code",
   "execution_count": null,
   "metadata": {},
   "outputs": [],
   "source": [
    "p = 13\n",
    "anzahl = 0\n",
    "anzahlnot = 0\n",
    "for i in range(1, 701):\n",
    "    for j in range(1, 701):\n",
    "        if isPrime(np.mod(i**3 + j**2, 13)):\n",
    "            print(f\"({i}, {j})\")\n",
    "            anzahlnot += 1\n",
    "        else:\n",
    "            anzahl += 1\n",
    "print(f\"Anzahl: {anzahlnot}\")\n",
    "print(f\"Prozentualler Anteil: {anzahlnot/anzahl*100}\")"
   ]
  },
  {
   "attachments": {},
   "cell_type": "markdown",
   "metadata": {},
   "source": [
    "### Übersicht:\n",
    "\n",
    "Mit $F_{13}$:\n",
    "\n",
    "    Anzahl = 60\n",
    "    Prozentualler Anteil = 71.42%\n",
    "\n",
    "Mit $F_{701}$:\n",
    "\n",
    "    Anzahl = 188784\n",
    "    Prozentualler Anteil = 62.67%\n",
    "\n",
    "Der Wachstum der Anzahl der Ergebnisse wo eine Primzahl rauskommt wächst sehr schnell und ist schwer berechenbar. Dies sieht man bei den Sprung von 13 auf 701 gut. Die Zahl ist nichtmal so viel mal größer aber die Differenz der Werte sagt alles aus."
   ]
  },
  {
   "attachments": {},
   "cell_type": "markdown",
   "metadata": {},
   "source": [
    "## Aufgabe 36)\n",
    "\n",
    "E elliptische Kurve in $F_p$\n",
    "\n",
    "Beachte Def. 6.1: <br> Sei K ein Körper (hier immer: K = R, oder K = $F_p$ für eine Primzahl p > 3).\n",
    "Seien a, b ∈ K mit $4a^3 + 27b^2 \\neq 0$. Dann ist<br>\n",
    "$\\quad\\quad$ E = {(x, y) ∈ K^2 | y^2 = x^3 + ax + b} ∪ {$\\mathcal{O}$} <br>\n",
    "eine elliptische Kurve über K.\n",
    "\n",
    "### a)\n",
    "\n",
    "Zu zeigen ist, dass wenn (x, y) ∈ E, dann auch (x, -y) ∈ E. \n",
    "\n",
    "Da in endlichen Körpern und R gilt: y^2 = (-y)^2 kann folgendes gemacht werden:\n",
    "\n",
    "a, b ∈ K beliebig wählen, sodass $4a^3 + 27b^2 \\neq 0$ erfüllt ist.\n",
    "\n",
    "Dann gilt:\n",
    "\n",
    "$y^2 = x^3 + ax + b$   \n",
    "<=>   $(-y)^2 = x^3 + ax + b$\n",
    "\n",
    "Somit ist sowohl (x, y), als auch (x, -y) ∈ E\n",
    "\n",
    "### b)\n",
    "\n",
    "Zu zeigen, beliebiger Punkt (x, y) in E, wird gespiegelt durch die Achse (x, p/2).\n",
    "\n",
    "Somit müsste der Punkt p=(x, y) auf q=(x, p-y) gespiegelt werden, welcher auch in E liegen muss.\n",
    "\n",
    "Das ist so, da somit E in zwei Hälften entlang der y Achse geteilt wird. Dadurch, dass das Ausreten aus E zum Wiedereintritt auf der gegenüberliegenden Seite führt (Modulo), gilt somit, dass der y Wert beim gespiegelten Punkt p-y entsprechen muss, wobei p die größe von E angibt.\n",
    "\n",
    "Um zu zeigen, dass q in E liegt, muss wieder Def. 6.1 erfüllt sein, mit beliebigen a, b ∈ K, wobei diese von p hergeleitet werden können und somit sicher existieren.\n",
    "\n",
    "$(p-y)^2=x^3+ax+b$\n",
    "\n",
    "$(p-y)^2$ mod p\n",
    "<=> $p^2-2py+y^2$ mod p /p^2 mod p = 0\n",
    "<=> $-2py+y^2$ mod p /-2py mod p = 0\n",
    "<=> $y^2$ mod p\n",
    "\n",
    "$y^2=x^3+ax+b$\n",
    "\n",
    "Somit ist bewiesen, dass auch q=(x, p-y) auf E liegen, was der gespiegelte Punkt von p=(x, y) anlang der (x, p/2) Achse ist."
   ]
  }
 ],
 "metadata": {
  "kernelspec": {
   "display_name": "Python 3",
   "language": "python",
   "name": "python3"
  },
  "language_info": {
   "codemirror_mode": {
    "name": "ipython",
    "version": 3
   },
   "file_extension": ".py",
   "mimetype": "text/x-python",
   "name": "python",
   "nbconvert_exporter": "python",
   "pygments_lexer": "ipython3",
   "version": "3.8.0"
  },
  "orig_nbformat": 4
 },
 "nbformat": 4,
 "nbformat_minor": 2
}
