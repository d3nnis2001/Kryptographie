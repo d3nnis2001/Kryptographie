{
 "cells": [
  {
   "cell_type": "markdown",
   "metadata": {},
   "source": [
    "# Übungsblatt 13\n",
    "---"
   ]
  },
  {
   "cell_type": "markdown",
   "metadata": {},
   "source": [
    "## Aufgabe 50)\n",
    "---\n",
    "\n",
    "Das Verfahren ist ein einfaches Beispiel eines kryptographischen Protokolls. Dabei geht es hier hautsächlich um die Schwierigkeit der Primfaktorzerlegung von großen Zahlen. Dabei geht es hier um ein 50/50 spiel. Bob wählt 2 von 4 Antworten wobei jede die gleiche Wahrscheinlichekeit hat. Dabei hat Bob dnan die Wahrscheinlichkeit von 50% die Wette zu gewinnen. Außerdem ist diese Wette effizient, da jeder Schritt des Verfahrens in Polynomialzeit ausgeführt werden kann. Das Verfahren ist außerdem sicher da wie bereits erwähnt eine Primfaktorzerlegung von 2 großen Zahlen extrems uneffizient ist. "
   ]
  },
  {
   "cell_type": "markdown",
   "metadata": {},
   "source": [
    "## Aufgabe 52\n",
    "---\n",
    "\n",
    "### a)\n",
    "\n",
    "Bob kann nicht a wissen weil eine Zufallszahl r draufaddiert wurde. Das macht es für ihn unmöglich die Zahl a zu wissen. Das selbe gilt für Carol da 1 random Zahl und a und b draufaddiert sind. Die Zufallszahl macht es für die beiden unmöglich die anderen Gehälter rauszukriegen. Alice am Ende weiß was $a + b + c$ ist und könnte theoretisch am ende von der Zahl $z = r + a + b + c$ einfach a und r subtrahieren und hätte die aufsummierte Summe von b und c. Natürlich könnte sie ein ungefähres Bild sich machen wie die Gehälter dann grob aussehen, aber auf die Zahl kann alice ebenfalls nicht kommen. Das macht das Verfahren sicher. Es gibt für jede Person mind. 2 Zahlen die sie nicht voneinander wissen. \n",
    "\n",
    "## b)\n",
    "\n",
    "Es könnte dasselbe wie in der bereits gezeigten Methode mit n Personen durchgeführt werden. Dabei gibt es wieder eine Person die sich eine Zufallszahl ausdenkt. Im endeffekt hätte man für die Berechnung des Durchschnitts am Ende eine Formel die ca. so aussieht: $\\frac{1}{n} * (x_1+x_2+...+x_n)$\n",
    "Diese Formel kann jz mit n Personen angewendet werden und je Person weiß am Ende, ob sie über oder unter dem Durchschnitt liegen.\n",
    "\n",
    "## c)\n",
    "\n",
    "Die Fragestellung ist ein wenig unklar. Allerdings müssen sich immer mind. 3 Personen zusammentreffen, damit alles anonym bleibt. Wenn sich z.B. 2 Personen treffen, dann weiß Person a welchen Gehalt Person b hat. Wenn sich also die ganzen Personen entweder in > 3 Gruppen treffen und die ganzen Informationen wie der aufsummierte Gehalt und die Anzahl der Personen teilen, dann kann eine andere Personen alle aufsummierten Gehälter Gruppen aufsummieren und dann das Gesamtergebnis durch n teilen."
   ]
  }
 ],
 "metadata": {
  "language_info": {
   "name": "python"
  },
  "orig_nbformat": 4
 },
 "nbformat": 4,
 "nbformat_minor": 2
}
