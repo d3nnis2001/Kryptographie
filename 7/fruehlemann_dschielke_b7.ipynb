{
 "cells": [
  {
   "attachments": {},
   "cell_type": "markdown",
   "metadata": {},
   "source": [
    "# Übungsblatt 7\n",
    "---\n",
    "\n",
    "## Aufgabe 25)\n",
    "\n",
    "### a) \n",
    "\n"
   ]
  },
  {
   "attachments": {},
   "cell_type": "markdown",
   "metadata": {},
   "source": [
    "## Aufgabe 26) \n",
    "\n",
    "### a)\n",
    "\n",
    "Wir haben gegeben:\n",
    "\n",
    "G = $Z_{29}*$ und g = 3\n",
    "\n",
    "9 $\\equiv$ $g^a$ mod $29$ \n",
    "\n",
    "6 $\\equiv$ $g^b$ mod $29$ \n",
    "\n",
    "Aufgabe: Was ist der geheime Exponent a und b und wie sieht der gemeinsame Schlüssel aus?\n",
    "\n",
    "Der Raum G sind alle Zahlen von 1-28, da 29 eine Primzahl ist\n",
    "\n",
    "Einfach rumprobieren bis man eine Zahl findet von 1-28 die die beiden Kriterien erfüllt\n",
    "\n",
    "Dabei findet man im Raum $Z_29*$ die Werte: $3^5 \\equiv 6$ mod $29$\n",
    "\n",
    "und: $3^10 \\equiv 9$ mod $29$\n",
    "\n",
    "Also wissen wir das:\n",
    "\n",
    "a = 10\n",
    "b = 5\n",
    "\n",
    "Dadruch können wir nun den gemeinsamen Schlüssel überprüfen:\n",
    "\n",
    "$(3^{10})^5$ mod $29$ = $22$\n",
    "\n",
    "$(3^5)^{10}$ mod $29$ = $22$\n",
    "\n",
    "### b) \n",
    "\n",
    "$dlog_5(4) = 5^x$ = $4$\n",
    "\n",
    "$dlog_5(8) = 5^x$ = $8$\n",
    "\n",
    "Maybe wäre hier ein Ansatz mittels Bruteforce die Zahlen zu ermitteln\n",
    "\n",
    "### c) \n",
    "\n"
   ]
  },
  {
   "cell_type": "code",
   "execution_count": 12,
   "metadata": {},
   "outputs": [
    {
     "data": {
      "text/plain": [
       "22"
      ]
     },
     "execution_count": 12,
     "metadata": {},
     "output_type": "execute_result"
    }
   ],
   "source": [
    "import numpy as np\n",
    "np.mod(5**5, 29)"
   ]
  },
  {
   "cell_type": "code",
   "execution_count": 13,
   "metadata": {},
   "outputs": [
    {
     "data": {
      "text/plain": [
       "20"
      ]
     },
     "execution_count": 13,
     "metadata": {},
     "output_type": "execute_result"
    }
   ],
   "source": [
    "np.mod(5**10, 29)"
   ]
  },
  {
   "cell_type": "code",
   "execution_count": 14,
   "metadata": {},
   "outputs": [
    {
     "data": {
      "text/plain": [
       "25"
      ]
     },
     "execution_count": 14,
     "metadata": {},
     "output_type": "execute_result"
    }
   ],
   "source": [
    "np.mod((5**5)**20, 29)"
   ]
  },
  {
   "cell_type": "code",
   "execution_count": 15,
   "metadata": {},
   "outputs": [
    {
     "data": {
      "text/plain": [
       "20"
      ]
     },
     "execution_count": 15,
     "metadata": {},
     "output_type": "execute_result"
    }
   ],
   "source": [
    "np.mod((5**10)**22, 29)"
   ]
  },
  {
   "attachments": {},
   "cell_type": "markdown",
   "metadata": {},
   "source": [
    "## Aufgabe 27) \n",
    "\n",
    "### a) Will nicht ausrechnen"
   ]
  },
  {
   "cell_type": "code",
   "execution_count": null,
   "metadata": {},
   "outputs": [],
   "source": [
    "import numpy as np\n",
    "\n",
    "def geburtstagsAngriff(G, b, z):\n",
    "    list1 = []\n",
    "    list2 = []\n",
    "    kollision = False\n",
    "    while(kollision != True):\n",
    "        i = np.random.randint(0, G-1)\n",
    "        r = np.random.randint(0, 1)\n",
    "        if(r == 0):\n",
    "            list1.append(z*(b**i))\n",
    "        else:\n",
    "            list2.append(b**i)\n",
    "        for x in list1:\n",
    "            if x in list2:\n",
    "                j = list2.index(x)\n",
    "                kollision = True\n",
    "                break\n",
    "    return i - j\n",
    "    \n",
    "geburtstagsAngriff(78, 7, 20)\n"
   ]
  },
  {
   "attachments": {},
   "cell_type": "markdown",
   "metadata": {},
   "source": [
    "### b) "
   ]
  },
  {
   "cell_type": "code",
   "execution_count": 20,
   "metadata": {},
   "outputs": [
    {
     "data": {
      "text/plain": [
       "8"
      ]
     },
     "execution_count": 20,
     "metadata": {},
     "output_type": "execute_result"
    }
   ],
   "source": [
    "def fiftyBestimmung():\n",
    "    n = 1\n",
    "    p = 1.0\n",
    "    \n",
    "    while(p > 0.5):\n",
    "        p = p * (31 - n+1)/31\n",
    "        n += 1\n",
    "    return n\n",
    "\n",
    "fiftyBestimmung()"
   ]
  },
  {
   "attachments": {},
   "cell_type": "markdown",
   "metadata": {},
   "source": [
    "Nach 8 Tagen ist die Wahrscheinlichkeit größer als 50 %, dass mindestens 2 Personen am selben Tag im Monat Geburtstag haben."
   ]
  },
  {
   "cell_type": "code",
   "execution_count": 29,
   "metadata": {},
   "outputs": [
    {
     "data": {
      "text/plain": [
       "0.607146109711302"
      ]
     },
     "execution_count": 29,
     "metadata": {},
     "output_type": "execute_result"
    }
   ],
   "source": [
    "1/1.64705"
   ]
  },
  {
   "attachments": {},
   "cell_type": "markdown",
   "metadata": {},
   "source": [
    "## Aufgabe 28)\n",
    "\n",
    "### a)\n",
    "\n",
    "Berechne den Kettenbruch von $\\frac{61}{37}$ und ihre rationalen Approximanten\n",
    "\n",
    "$\\frac{61}{37}$ = 1 + $\\frac{1}{1 + \\frac{1}{1 + \\frac{1}{1 + \\frac{1}{5 + \\frac{1}{2}}}}}$\n",
    "\n",
    "37 / 24 = 1\n",
    "\n",
    "Rest: 13/24\n",
    "\n",
    "24 / 13 = 1\n",
    "\n",
    "Rest; 11 / 13\n",
    "\n",
    "13/ 11 = 1 \n",
    "\n",
    "Rest: 2/11\n",
    "\n",
    "11/2 = 5 \n",
    "\n",
    "Rest: 1/2\n",
    "\n",
    "2/1 = 2\n",
    "\n",
    "Approximanten: \n",
    "\n",
    "0. ist 1\n",
    "1. ist 2 \n",
    "2. ist 1,5\n",
    "3. ist 1.66\n",
    "4. ist 1.64705\n",
    "5. ist 1.64864864"
   ]
  }
 ],
 "metadata": {
  "kernelspec": {
   "display_name": "Python 3",
   "language": "python",
   "name": "python3"
  },
  "language_info": {
   "codemirror_mode": {
    "name": "ipython",
    "version": 3
   },
   "file_extension": ".py",
   "mimetype": "text/x-python",
   "name": "python",
   "nbconvert_exporter": "python",
   "pygments_lexer": "ipython3",
   "version": "3.8.0"
  },
  "orig_nbformat": 4
 },
 "nbformat": 4,
 "nbformat_minor": 2
}
