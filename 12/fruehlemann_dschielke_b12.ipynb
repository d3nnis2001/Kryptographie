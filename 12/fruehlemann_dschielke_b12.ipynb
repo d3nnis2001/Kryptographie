{
 "cells": [
  {
   "attachments": {},
   "cell_type": "markdown",
   "metadata": {},
   "source": [
    "# Übungsblatt 12\n",
    "---"
   ]
  },
  {
   "attachments": {},
   "cell_type": "markdown",
   "metadata": {},
   "source": [
    "## Aufgabe 45)"
   ]
  },
  {
   "cell_type": "code",
   "execution_count": 44,
   "metadata": {},
   "outputs": [
    {
     "name": "stdout",
     "output_type": "stream",
     "text": [
      "a) Matrizen: \n",
      "\n",
      "M:\n",
      " [['00000000' '01000100' '10001000' '11001100']\n",
      " ['00010001' '01010101' '10011001' '11011101']\n",
      " ['00100010' '01100110' '10101010' '11101110']\n",
      " ['00110011' '01110111' '10111011' '11111111']] \n",
      "\n",
      "K:\n",
      " [['10101011' '10111100' '11001101' '11011110']\n",
      " ['10101011' '10111100' '11001101' '11011110']\n",
      " ['10101011' '10111100' '11001101' '11011110']\n",
      " ['10101011' '10111100' '11001101' '11011110']]\n"
     ]
    }
   ],
   "source": [
    "# a)\n",
    "\n",
    "import numpy as np\n",
    "\n",
    "def hexToBinary(hex_string, Matrix):\n",
    "    i = 0\n",
    "    j = 0\n",
    "\n",
    "    for d in range(0, len(hex_string), 2):\n",
    "        hex_chars = hex_string[d:d+2]\n",
    "        \n",
    "        decimal_num = int(hex_chars, 16)\n",
    "        binary_num = bin(decimal_num)[2:].zfill(8)\n",
    "\n",
    "        if i == 4:\n",
    "            i = 0\n",
    "            j += 1\n",
    "\n",
    "        Matrix[i][j] = binary_num\n",
    "\n",
    "        i += 1\n",
    "\n",
    "\n",
    "hex_string = \"00112233445566778899AABBCCDDEEFF\"\n",
    "M = np.empty((4,4), dtype='U8')\n",
    "hexToBinary(hex_string, M)\n",
    "\n",
    "hex_string = \"ABABABABBCBCBCBCCDCDCDCDDEDEDEDE\"\n",
    "K = np.empty((4,4), dtype='U8')\n",
    "hexToBinary(hex_string, K)\n",
    "\n",
    "print(\"a) Matrizen: \\n\")\n",
    "\n",
    "print(\"M:\\n\", M, \"\\n\")\n",
    "print(\"K:\\n\", K)\n"
   ]
  },
  {
   "cell_type": "code",
   "execution_count": 45,
   "metadata": {},
   "outputs": [
    {
     "name": "stdout",
     "output_type": "stream",
     "text": [
      "b) AddRoundKey auf M angewendet: \n",
      "\n",
      "M:\n",
      " [['10101011' '11111000' '01000101' '00010010']\n",
      " ['10111010' '11101001' '01010100' '00000011']\n",
      " ['10001001' '11011010' '01100111' '00110000']\n",
      " ['10011000' '11001011' '01110110' '00100001']]\n"
     ]
    }
   ],
   "source": [
    "# b)\n",
    "\n",
    "def addRoundKey(M, K):\n",
    "    for i in range(4):\n",
    "        for j in range(4):\n",
    "            M_ij = list(M[i][j])\n",
    "            K_ij = list(K[i][j])\n",
    "            for char in range(8):\n",
    "                if M_ij[char] == K_ij[char]:\n",
    "                    M_ij[char] = '0'\n",
    "                else:\n",
    "                    M_ij[char] = '1'\n",
    "            M[i][j] = ''.join(M_ij)\n",
    "\n",
    "MCopy = np.copy(M)\n",
    "\n",
    "addRoundKey(MCopy, K)\n",
    "\n",
    "print(\"b) AddRoundKey auf M angewendet: \\n\")\n",
    "\n",
    "print(\"M:\\n\", MCopy)"
   ]
  },
  {
   "cell_type": "code",
   "execution_count": 46,
   "metadata": {},
   "outputs": [
    {
     "name": "stdout",
     "output_type": "stream",
     "text": [
      "c) ShiftRows auf M angewendet: \n",
      "\n",
      "M:\n",
      " [['00000000' '01000100' '10001000' '11001100']\n",
      " ['01010101' '10011001' '11011101' '00010001']\n",
      " ['10101010' '11101110' '00100010' '01100110']\n",
      " ['11111111' '00110011' '01110111' '10111011']]\n"
     ]
    }
   ],
   "source": [
    "# c)\n",
    "\n",
    "def shiftRows(M):\n",
    "    for i in range(1, 4):\n",
    "        M[i] = np.roll(M[i], -i)\n",
    "\n",
    "MCopy2 = np.copy(M)\n",
    "\n",
    "shiftRows(MCopy2)\n",
    "\n",
    "print(\"c) ShiftRows auf M angewendet: \\n\")\n",
    "\n",
    "print(\"M:\\n\", MCopy2)"
   ]
  },
  {
   "attachments": {},
   "cell_type": "markdown",
   "metadata": {},
   "source": [
    "## Aufgabe 46)"
   ]
  },
  {
   "attachments": {},
   "cell_type": "markdown",
   "metadata": {},
   "source": [
    "15 = 00010101 = x^4 + x^2 + 1\n",
    "\n",
    "Vorgang wie in Skript Beispiel 8.1:\n",
    "\n",
    "x = PolynomialRing(GF(2), 'x').gen()\n",
    "\n",
    "p = x^4 + x^2 + 1<br>\n",
    "q = x^8 + x^4 + x^3 + x + 1\n",
    "\n",
    "xgcd(p, q) liefert: p^-1 = x^5 + x^3 + x + 1\n",
    "\n",
    "Dann:\n",
    "\n",
    "p0 = x^6 + x^5 + x + 1<br>\n",
    "p1 = x^4 + x^3 + x^2 + x + 1\n",
    "\n",
    "p'*p1 = (x^5 + x^3 + x + 1)*(x^4 + x^3 + x^2 + x + 1) = x^9 + x^8 + x^5 + x^4 + x^3 + 1<br>\n",
    "p'*p1 % x^8 + 1 = x^5 + x^4 + x^3\n",
    "\n",
    "p''+p0 = x^5 + x^4 + x^3 + x^6 + x^5 + x + 1 = x^6 + x^4 + x^3 + x + 1\n",
    "\n",
    "SubBytes auf (0, 0, 0, 1, 0, 1, 0, 1) angewandt liefert: (0, 1, 0, 1, 1, 0, 1, 1) also 5B"
   ]
  }
 ],
 "metadata": {
  "kernelspec": {
   "display_name": "Python 3",
   "language": "python",
   "name": "python3"
  },
  "language_info": {
   "codemirror_mode": {
    "name": "ipython",
    "version": 3
   },
   "file_extension": ".py",
   "mimetype": "text/x-python",
   "name": "python",
   "nbconvert_exporter": "python",
   "pygments_lexer": "ipython3",
   "version": "3.10.8"
  },
  "orig_nbformat": 4
 },
 "nbformat": 4,
 "nbformat_minor": 2
}
