{
 "cells": [
  {
   "attachments": {},
   "cell_type": "markdown",
   "metadata": {},
   "source": [
    "# Übungsblatt 12\n",
    "---"
   ]
  },
  {
   "cell_type": "code",
   "execution_count": 29,
   "metadata": {},
   "outputs": [
    {
     "name": "stdout",
     "output_type": "stream",
     "text": [
      "a) Matrizen: \n",
      "\n",
      "M:\n",
      " [['00000000' '01000100' '10001000' '11001100']\n",
      " ['00010001' '01010101' '10011001' '11011101']\n",
      " ['00100010' '01100110' '10101010' '11101110']\n",
      " ['00110011' '01110111' '10111011' '11111111']] \n",
      "\n",
      "K:\n",
      " [['10101011' '10111100' '11001101' '11011110']\n",
      " ['10101011' '10111100' '11001101' '11011110']\n",
      " ['10101011' '10111100' '11001101' '11011110']\n",
      " ['10101011' '10111100' '11001101' '11011110']]\n"
     ]
    }
   ],
   "source": [
    "# a)\n",
    "\n",
    "import numpy as np\n",
    "\n",
    "def hexToBinary(hex_string, Matrix):\n",
    "    i = 0\n",
    "    j = 0\n",
    "\n",
    "    for d in range(0, len(hex_string), 2):\n",
    "        hex_chars = hex_string[d:d+2]\n",
    "        \n",
    "        decimal_num = int(hex_chars, 16)\n",
    "        binary_num = bin(decimal_num)[2:].zfill(8)\n",
    "\n",
    "        if i == 4:\n",
    "            i = 0\n",
    "            j += 1\n",
    "\n",
    "        Matrix[i][j] = binary_num\n",
    "\n",
    "        i += 1\n",
    "\n",
    "\n",
    "hex_string = \"00112233445566778899AABBCCDDEEFF\"\n",
    "M = np.empty((4,4), dtype='U8')\n",
    "hexToBinary(hex_string, M)\n",
    "\n",
    "hex_string = \"ABABABABBCBCBCBCCDCDCDCDDEDEDEDE\"\n",
    "K = np.empty((4,4), dtype='U8')\n",
    "hexToBinary(hex_string, K)\n",
    "\n",
    "print(\"a) Matrizen: \\n\")\n",
    "\n",
    "print(\"M:\\n\", M, \"\\n\")\n",
    "print(\"K:\\n\", K)\n"
   ]
  },
  {
   "cell_type": "code",
   "execution_count": 30,
   "metadata": {},
   "outputs": [
    {
     "name": "stdout",
     "output_type": "stream",
     "text": [
      "b) AddRoundKey: \n",
      "\n",
      "M:\n",
      " [['10101011' '11111000' '01000101' '00010010']\n",
      " ['10111010' '11101001' '01010100' '00000011']\n",
      " ['10001001' '11011010' '01100111' '00110000']\n",
      " ['10011000' '11001011' '01110110' '00100001']]\n"
     ]
    }
   ],
   "source": [
    "# b)\n",
    "\n",
    "def addRoundKey(M, K):\n",
    "    for i in range(4):\n",
    "        for j in range(4):\n",
    "            M_ij = list(M[i][j])  # Convert the string to a list\n",
    "            K_ij = list(K[i][j])  # Convert the string to a list\n",
    "            for char in range(8):\n",
    "                if M_ij[char] == K_ij[char]:\n",
    "                    M_ij[char] = '0'\n",
    "                else:\n",
    "                    M_ij[char] = '1'\n",
    "            M[i][j] = ''.join(M_ij)\n",
    "\n",
    "addRoundKey(M, K)\n",
    "\n",
    "print(\"b) AddRoundKey: \\n\")\n",
    "\n",
    "print(\"M:\\n\", M)"
   ]
  },
  {
   "cell_type": "code",
   "execution_count": 31,
   "metadata": {},
   "outputs": [
    {
     "name": "stdout",
     "output_type": "stream",
     "text": [
      "c) ShiftRows: \n",
      "\n",
      "M:\n",
      " [['10101011' '11111000' '01000101' '00010010']\n",
      " ['11101001' '01010100' '00000011' '10111010']\n",
      " ['01100111' '00110000' '10001001' '11011010']\n",
      " ['00100001' '10011000' '11001011' '01110110']]\n"
     ]
    }
   ],
   "source": [
    "# c)\n",
    "\n",
    "def shiftRows(M):\n",
    "    for i in range(1, 4):\n",
    "        M[i] = np.roll(M[i], -i)\n",
    "\n",
    "shiftRows(M)\n",
    "\n",
    "print(\"c) ShiftRows: \\n\")\n",
    "\n",
    "print(\"M:\\n\", M)"
   ]
  }
 ],
 "metadata": {
  "kernelspec": {
   "display_name": "Python 3",
   "language": "python",
   "name": "python3"
  },
  "language_info": {
   "codemirror_mode": {
    "name": "ipython",
    "version": 3
   },
   "file_extension": ".py",
   "mimetype": "text/x-python",
   "name": "python",
   "nbconvert_exporter": "python",
   "pygments_lexer": "ipython3",
   "version": "3.10.8"
  },
  "orig_nbformat": 4
 },
 "nbformat": 4,
 "nbformat_minor": 2
}
