{
 "cells": [
  {
   "attachments": {},
   "cell_type": "markdown",
   "metadata": {},
   "source": [
    "## Krypto Blatt 3\n",
    "---\n",
    "\n",
    "*Fynn Jonathan Rühlemann und Dennis Schielke*"
   ]
  },
  {
   "attachments": {},
   "cell_type": "markdown",
   "metadata": {},
   "source": [
    "## 13)\n",
    "\n",
    "a)\n",
    "\n",
    "k=16: \n",
    "\n",
    "$2^{k-1}$ = 32768\n",
    "\n",
    "$2^k$ = 65536\n",
    "\n",
    "\n",
    "k=24:\n",
    "\n",
    "$2^{k-1}$ = 8388608\n",
    "\n",
    "$2^k$ = 16777216"
   ]
  },
  {
   "cell_type": "code",
   "execution_count": 83,
   "metadata": {},
   "outputs": [
    {
     "name": "stdout",
     "output_type": "stream",
     "text": [
      "Erwartete Primzahlen für k=16: 2757.663480824557\n",
      "Erwartete Primzahlen für k=24: 482334.18397527665\n"
     ]
    }
   ],
   "source": [
    "import math\n",
    "\n",
    "# x1/ln(x1) - x2/ln(x2)\n",
    "\n",
    "# k=16\n",
    "expected16 = (2**16/math.log(2**16)) - (2**15/math.log(2**15))\n",
    "print(\"Erwartete Primzahlen für k=16:\", expected16)\n",
    "\n",
    "# k=24\n",
    "expected16 = (2**24/math.log(2**24)) - (2**23/math.log(2**23))\n",
    "print(\"Erwartete Primzahlen für k=24:\", expected16)"
   ]
  },
  {
   "attachments": {},
   "cell_type": "markdown",
   "metadata": {},
   "source": [
    "- Erwartete Primzahlen für k=16: 2757.663480824557\n",
    "- Erwartete Primzahlen für k=24: 482334.18397527665"
   ]
  },
  {
   "cell_type": "code",
   "execution_count": 4,
   "metadata": {},
   "outputs": [
    {
     "name": "stdout",
     "output_type": "stream",
     "text": [
      "Menge an Primzahlen zwischen 2^16 und 2^16-1: 3030\n",
      "Menge an Primzahlen zwischen 2^24 und 2^24-1: 513708\n"
     ]
    }
   ],
   "source": [
    "def getPrimes(end):\n",
    "    primes = set()\n",
    "    for x in range(1, end+1):\n",
    "        if(checkPrime(x)):\n",
    "            primes.add(x)\n",
    "    return primes\n",
    "\n",
    "def checkPrime(x):\n",
    "    if(x == 2):\n",
    "        return True\n",
    "    if((x % 2 == 0) or (x <= 1)):\n",
    "        return False\n",
    "    for i in range(3, int(math.sqrt(x)+1), 2):\n",
    "        if((x % i == 0)):\n",
    "            return False\n",
    "    return True\n",
    "\n",
    "\n",
    "set161 = getPrimes(2**16)\n",
    "set162 = getPrimes(2**15)\n",
    "\n",
    "set241 = getPrimes(2**24)\n",
    "set242 = getPrimes(2**23)\n",
    "\n",
    "print(\"Menge an Primzahlen zwischen 2^16 und 2^16-1:\", len(set161 - set162))\n",
    "print(\"Menge an Primzahlen zwischen 2^24 und 2^24-1:\", len(set241 - set242))\n",
    "\n",
    "\n",
    "    "
   ]
  },
  {
   "attachments": {},
   "cell_type": "markdown",
   "metadata": {},
   "source": [
    "- Menge an Primzahlen zwischen 2^16 und 2^16-1: 3030\n",
    "- Menge an Primzahlen zwischen 2^24 und 2^24-1: 513708"
   ]
  },
  {
   "attachments": {},
   "cell_type": "markdown",
   "metadata": {},
   "source": [
    "## 14)"
   ]
  },
  {
   "cell_type": "code",
   "execution_count": 28,
   "metadata": {},
   "outputs": [],
   "source": [
    "def gcdt(zahl1, zahl2):\n",
    "    for i in range(zahl2):\n",
    "        if(zahl1 % (i+2) == 0 and zahl2 % (i+2) == 0):\n",
    "            return False\n",
    "    return True"
   ]
  },
  {
   "cell_type": "code",
   "execution_count": 30,
   "metadata": {},
   "outputs": [
    {
     "ename": "KeyboardInterrupt",
     "evalue": "",
     "output_type": "error",
     "traceback": [
      "\u001b[0;31m---------------------------------------------------------------------------\u001b[0m",
      "\u001b[0;31mKeyboardInterrupt\u001b[0m                         Traceback (most recent call last)",
      "Cell \u001b[0;32mIn[30], line 18\u001b[0m\n\u001b[1;32m     15\u001b[0m         \u001b[39mprint\u001b[39m(\u001b[39m\"\u001b[39m\u001b[39mN ist wahrscheinlich eine Primzahl\u001b[39m\u001b[39m\"\u001b[39m)\n\u001b[1;32m     16\u001b[0m         \u001b[39mreturn\u001b[39;00m\n\u001b[0;32m---> 18\u001b[0m \u001b[39mprint\u001b[39m(\u001b[39m\"\u001b[39m\u001b[39mN = 2^80 + 71:\u001b[39m\u001b[39m\"\u001b[39m, fermat(num2))\n\u001b[1;32m     19\u001b[0m \u001b[39mprint\u001b[39m(\u001b[39m\"\u001b[39m\u001b[39mN = 2^80 + 85:\u001b[39m\u001b[39m\"\u001b[39m, fermat(num1))\n",
      "Cell \u001b[0;32mIn[30], line 10\u001b[0m, in \u001b[0;36mfermat\u001b[0;34m(N)\u001b[0m\n\u001b[1;32m      7\u001b[0m \u001b[39mfor\u001b[39;00m i \u001b[39min\u001b[39;00m \u001b[39mrange\u001b[39m(\u001b[39m47\u001b[39m):\n\u001b[1;32m      8\u001b[0m     a \u001b[39m=\u001b[39m random\u001b[39m.\u001b[39mrandint(\u001b[39m2\u001b[39m, N\u001b[39m-\u001b[39m\u001b[39m2\u001b[39m)\n\u001b[0;32m---> 10\u001b[0m     \u001b[39mif\u001b[39;00m(gcdt(a, N) \u001b[39m==\u001b[39m \u001b[39mFalse\u001b[39;00m):\n\u001b[1;32m     11\u001b[0m         \u001b[39mprint\u001b[39m(\u001b[39m\"\u001b[39m\u001b[39mN ist keine Primzahl\u001b[39m\u001b[39m\"\u001b[39m)\n\u001b[1;32m     12\u001b[0m         \u001b[39mreturn\u001b[39;00m\n",
      "Cell \u001b[0;32mIn[28], line 3\u001b[0m, in \u001b[0;36mgcdt\u001b[0;34m(zahl1, zahl2)\u001b[0m\n\u001b[1;32m      1\u001b[0m \u001b[39mdef\u001b[39;00m \u001b[39mgcdt\u001b[39m(zahl1, zahl2):\n\u001b[1;32m      2\u001b[0m     \u001b[39mfor\u001b[39;00m i \u001b[39min\u001b[39;00m \u001b[39mrange\u001b[39m(zahl2):\n\u001b[0;32m----> 3\u001b[0m         \u001b[39mif\u001b[39;00m(zahl1 \u001b[39m%\u001b[39m (i\u001b[39m+\u001b[39m\u001b[39m2\u001b[39m) \u001b[39m==\u001b[39m \u001b[39m0\u001b[39m \u001b[39mand\u001b[39;00m zahl2 \u001b[39m%\u001b[39m (i\u001b[39m+\u001b[39m\u001b[39m2\u001b[39m) \u001b[39m==\u001b[39m \u001b[39m0\u001b[39m):\n\u001b[1;32m      4\u001b[0m             \u001b[39mreturn\u001b[39;00m \u001b[39mFalse\u001b[39;00m\n\u001b[1;32m      5\u001b[0m     \u001b[39mreturn\u001b[39;00m \u001b[39mTrue\u001b[39;00m\n",
      "\u001b[0;31mKeyboardInterrupt\u001b[0m: "
     ]
    }
   ],
   "source": [
    "import random\n",
    "\n",
    "num1 = 2**80 + 85\n",
    "num2 = 2**80 + 71\n",
    "\n",
    "def fermat(N):\n",
    "    for i in range(47):\n",
    "        a = random.randint(2, N-2)\n",
    "\n",
    "        if(math.gcd(a, N) != 1):\n",
    "            print(\"N ist keine Primzahl\")\n",
    "            return\n",
    "        \n",
    "        b = a**(N-1) % N\n",
    "\n",
    "        if(b != 1):\n",
    "            print(\"N ist keine Primzahl\")\n",
    "            return\n",
    "        \n",
    "        print(\"N ist wahrscheinlich eine Primzahl\")\n",
    "        return\n",
    "    \n",
    "print(\"N = 2^80 + 85:\", fermat(num1))\n",
    "print(\"N = 2^80 + 71:\", fermat(num2))"
   ]
  },
  {
   "attachments": {},
   "cell_type": "markdown",
   "metadata": {},
   "source": [
    "## 15)"
   ]
  },
  {
   "cell_type": "code",
   "execution_count": 89,
   "metadata": {},
   "outputs": [],
   "source": [
    "def SmallestMillerRabinWitness(N):\n",
    "    # Miller-Rabin-Test\n",
    "    if(N % 2 == 0):\n",
    "        return False\n",
    "    kAndM = getKAndM(N)\n",
    "    k = kAndM[0]\n",
    "    m = kAndM[1]\n",
    "\n",
    "    a = random.randint(2, N-2)\n",
    "    if(math.gcd(a, N) != 1):\n",
    "        return False\n",
    "    b = a**m % N\n",
    "    i = 0\n",
    "    if(b == 1):\n",
    "        return True\n",
    "    \n",
    "    while(i <= k):\n",
    "        b = b**2 % N\n",
    "        i += 1\n",
    "\n",
    "    if (b != 1):\n",
    "        return False\n",
    "    return True\n",
    "\n",
    "def getKAndM(N):\n",
    "    k = 0\n",
    "    while(2**k < (N-1)):\n",
    "        k += 1\n",
    "    k -= 1\n",
    "\n",
    "    def checkK(checkNum):\n",
    "        m = 1\n",
    "        while(checkNum*m <= (N-1)):\n",
    "            if(checkNum*m == (N-1)):\n",
    "                return m\n",
    "            m += 1\n",
    "        return -1\n",
    "    \n",
    "    while True:\n",
    "        checkNum = 2**k\n",
    "        m = checkK(checkNum)\n",
    "        if(m != -1):\n",
    "            break\n",
    "        k -= 1\n",
    "\n",
    "    return (k, m)"
   ]
  },
  {
   "attachments": {},
   "cell_type": "markdown",
   "metadata": {},
   "source": [
    "#### a) \n",
    "\n",
    "Zuerst müssen wir den kleinsten Miller-Rabin-Zeugen für N = 3215031751 finden um zu zeigen, dass N keine Primzahl ist. \n",
    "Dies können wir ganz leicht machen:"
   ]
  },
  {
   "cell_type": "code",
   "execution_count": 90,
   "metadata": {},
   "outputs": [
    {
     "name": "stdout",
     "output_type": "stream",
     "text": [
      "302\n"
     ]
    }
   ],
   "source": [
    "def durchlauf(N):\n",
    "    for i in range(N-1):\n",
    "        if(math.gcd(i+2, N) != 1):\n",
    "            if(SmallestMillerRabinWitness(i+2)==False):\n",
    "                print(i+2)\n",
    "                return\n",
    "\n",
    "durchlauf(3215031751)"
   ]
  },
  {
   "attachments": {},
   "cell_type": "markdown",
   "metadata": {},
   "source": [
    "Wie wir sehen können ist der kleinste Miller-Rabin-Zeuge für N die Zahl 302."
   ]
  },
  {
   "attachments": {},
   "cell_type": "markdown",
   "metadata": {},
   "source": [
    "#### b)"
   ]
  },
  {
   "cell_type": "code",
   "execution_count": 97,
   "metadata": {},
   "outputs": [],
   "source": [
    "def durchlauf2(N):\n",
    "    for i in range(N-1):\n",
    "        if(math.gcd(i+2, N) == 1):\n",
    "            if(SmallestMillerRabinWitness(i+2)==False):\n",
    "                print(i+2)"
   ]
  },
  {
   "cell_type": "code",
   "execution_count": 96,
   "metadata": {},
   "outputs": [
    {
     "name": "stdout",
     "output_type": "stream",
     "text": [
      "10\n",
      "20\n",
      "30\n",
      "35\n",
      "40\n",
      "50\n",
      "55\n",
      "58\n",
      "60\n",
      "70\n",
      "80\n",
      "90\n",
      "100\n",
      "105\n",
      "110\n",
      "116\n",
      "120\n",
      "130\n",
      "140\n"
     ]
    }
   ],
   "source": [
    "durchlauf2(145)"
   ]
  },
  {
   "cell_type": "code",
   "execution_count": null,
   "metadata": {},
   "outputs": [],
   "source": [
    "durchlauf2(1105)"
   ]
  },
  {
   "attachments": {},
   "cell_type": "markdown",
   "metadata": {},
   "source": [
    "## Aufgabe 16\n",
    "---"
   ]
  },
  {
   "attachments": {},
   "cell_type": "markdown",
   "metadata": {},
   "source": [
    "#### a) \n",
    "\n",
    "Zeigen Sie: falls N eine Carmichaelzahl ist, dann ist $p_i$ - 1 Teiler von N - 1 für alle $1 <= i <= 3$\n",
    "\n",
    "$N = p_1 * p_2 * p_3$\n",
    "\n",
    "Beispiel: \n",
    "\n",
    "$p_1 = 7, p_2 = 13, p_3 = 19$\n",
    "\n",
    "$ 7 * 13 * 19 = 1729$\n",
    "\n",
    "$ 1729 - 1 = 1728$\n",
    "\n",
    "$ p_1 = 6, p_2 = 12, p_3 = 18 = \n"
   ]
  },
  {
   "cell_type": "code",
   "execution_count": 40,
   "metadata": {},
   "outputs": [
    {
     "name": "stdout",
     "output_type": "stream",
     "text": [
      "0\n",
      "0\n",
      "0\n"
     ]
    }
   ],
   "source": [
    "print(1728%6)\n",
    "print(1728%12)\n",
    "print(1728%18)"
   ]
  },
  {
   "attachments": {},
   "cell_type": "markdown",
   "metadata": {},
   "source": [
    "Es ist zu sehen, dass diese Behauptung für ein gewähltes Beispiel stimmt. Da die Definition einer Carmichaelzahl darauf zutrifft, dass $p_1 - 1$ Teiler von N-1 sein muss für jedes $i$ gilt diese Behauptung für eine bel. Carmichaelzahl"
   ]
  },
  {
   "attachments": {},
   "cell_type": "markdown",
   "metadata": {},
   "source": [
    "#### b) \n",
    "\n",
    "Zeigen Sie: falls $p_i$ - 1 Teiler von N - 1 für alle $1 <= i <= 3$ ist, dann ist N eine Carmichaelzahl\n",
    "\n",
    "Dies gilt wieder aus der Definition der Carmichaelzahl."
   ]
  },
  {
   "attachments": {},
   "cell_type": "markdown",
   "metadata": {},
   "source": [
    "#### c)\n",
    "\n",
    "Dies wird im folgenden durch den gegebenen Code gezeigt:"
   ]
  },
  {
   "cell_type": "code",
   "execution_count": 45,
   "metadata": {},
   "outputs": [
    {
     "name": "stdout",
     "output_type": "stream",
     "text": [
      "Carmichaelzahl: 7 13 19\n",
      "True\n",
      "Carmichaelzahl: 37 73 109\n",
      "True\n",
      "Carmichaelzahl: 211 421 631\n",
      "True\n",
      "Carmichaelzahl: 271 541 811\n",
      "True\n",
      "Carmichaelzahl: 307 613 919\n",
      "True\n",
      "Carmichaelzahl: 331 661 991\n",
      "True\n",
      "Carmichaelzahl: 337 673 1009\n",
      "True\n",
      "Carmichaelzahl: 601 1201 1801\n",
      "True\n",
      "Carmichaelzahl: 727 1453 2179\n",
      "True\n",
      "Carmichaelzahl: 1171 2341 3511\n",
      "True\n",
      "Carmichaelzahl: 1237 2473 3709\n",
      "True\n",
      "Carmichaelzahl: 1297 2593 3889\n",
      "True\n",
      "Carmichaelzahl: 1531 3061 4591\n",
      "True\n",
      "Carmichaelzahl: 1657 3313 4969\n",
      "True\n",
      "Carmichaelzahl: 2221 4441 6661\n",
      "True\n",
      "Carmichaelzahl: 2281 4561 6841\n",
      "True\n",
      "Carmichaelzahl: 2557 5113 7669\n",
      "True\n",
      "Carmichaelzahl: 3037 6073 9109\n",
      "True\n",
      "Carmichaelzahl: 3061 6121 9181\n",
      "True\n",
      "Carmichaelzahl: 3067 6133 9199\n",
      "True\n",
      "Carmichaelzahl: 4261 8521 12781\n",
      "True\n",
      "Carmichaelzahl: 4447 8893 13339\n",
      "True\n",
      "Carmichaelzahl: 4801 9601 14401\n",
      "True\n",
      "Carmichaelzahl: 4951 9901 14851\n",
      "True\n",
      "Carmichaelzahl: 5227 10453 15679\n",
      "True\n",
      "Carmichaelzahl: 5581 11161 16741\n",
      "True\n",
      "Carmichaelzahl: 5851 11701 17551\n",
      "True\n"
     ]
    }
   ],
   "source": [
    "def carmichaelzahl(p1, p2, p3):\n",
    "    N = p1*p2*p3\n",
    "    if((N-1)%(p1-1) == 0 and (N-1)%(p2-1) == 0 and (N-1)%(p3-1) == 0):\n",
    "        return True\n",
    "    return False\n",
    "\n",
    "def findCar():\n",
    "    for i in range(1000):\n",
    "        m1 = 6*(i+1)+1\n",
    "        m2 = 12*(i+1)+1\n",
    "        m3 = 18*(i+1)+1\n",
    "        if(is_prime(m1) and is_prime(m2) and is_prime(m3)):\n",
    "            print(\"Carmichaelzahl:\", 6*(i+1)+1, 12*(i+1)+1, 18*(i+1)+1)\n",
    "            if(carmichaelzahl(m1, m2, m3)==True):\n",
    "                print(\"True\")\n",
    "           \n",
    "def is_prime(n):\n",
    "    for i in range(2,n):\n",
    "        if (n%i) == 0:\n",
    "            return False\n",
    "    return True\n",
    "\n",
    "findCar()"
   ]
  },
  {
   "attachments": {},
   "cell_type": "markdown",
   "metadata": {},
   "source": [
    "Dieser Code zeigt, dass dies für eine beliebige m worauf die Vorraussetzungen zutreffen gilt. "
   ]
  },
  {
   "attachments": {},
   "cell_type": "markdown",
   "metadata": {},
   "source": [
    "#### d)\n",
    "\n",
    "Durch den Einsetzen der kleinsten Zahlen findet man heraus, dass durch die Formel (6m+1)(12m+1)(18m+1) die Zahl 6 direkt eine Carmichaelzahl ist, da:\n",
    "\n",
    "- (6*6+1) = 37 = Primzahl\n",
    "- (12*6+1) = 73 = Primzahl\n",
    "- (18*6+1) = 109 = Primzahl\n",
    "\n",
    "Dadurch ist die 6 eine Carmichaelzahl"
   ]
  }
 ],
 "metadata": {
  "kernelspec": {
   "display_name": "Python 3",
   "language": "python",
   "name": "python3"
  },
  "language_info": {
   "codemirror_mode": {
    "name": "ipython",
    "version": 3
   },
   "file_extension": ".py",
   "mimetype": "text/x-python",
   "name": "python",
   "nbconvert_exporter": "python",
   "pygments_lexer": "ipython3",
   "version": "3.10.9"
  },
  "orig_nbformat": 4
 },
 "nbformat": 4,
 "nbformat_minor": 2
}
