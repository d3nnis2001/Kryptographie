{
 "cells": [
  {
   "attachments": {},
   "cell_type": "markdown",
   "metadata": {},
   "source": [
    "# Blatt 6\n",
    "---"
   ]
  },
  {
   "cell_type": "code",
   "execution_count": null,
   "metadata": {},
   "outputs": [],
   "source": [
    "buch = \"a\"\n",
    "for i in range(26):\n",
    "    print(f\"{i} : {buch}\")\n",
    "    buch = chr(ord(buch) + 1)"
   ]
  },
  {
   "attachments": {},
   "cell_type": "markdown",
   "metadata": {},
   "source": [
    "## Aufgabe 21)\n",
    "\n",
    "### a)\n",
    "\n",
    "(N, e) = (273373, 65537)\n",
    "\n",
    "Verschlüsseln von \"bielefeld\"\n",
    "\n",
    "Unterteilung in 3 messages: \"bie\" \"lef\" \"eld\"\n",
    "\n",
    "$m_1$ = 10804\n",
    "\n",
    "$m_2$ = 110405\n",
    "\n",
    "$m_3$ = 41103\n",
    "\n",
    "Verschlüsselung mit: $m^e$ mod $N$"
   ]
  },
  {
   "cell_type": "code",
   "execution_count": 20,
   "metadata": {},
   "outputs": [
    {
     "name": "stdout",
     "output_type": "stream",
     "text": [
      "246231\n",
      "17787\n",
      "73173\n"
     ]
    }
   ],
   "source": [
    "import numpy as np\n",
    "\n",
    "m1 = 10804\n",
    "m2 = 110405\n",
    "m3 = 41103\n",
    "N = 273373\n",
    "e = 65537\n",
    "\n",
    "print(np.mod(m1**e, N))\n",
    "print(np.mod(m2**e, N))\n",
    "print(np.mod(m3**e, N))"
   ]
  },
  {
   "attachments": {},
   "cell_type": "markdown",
   "metadata": {},
   "source": [
    "246231 = ykf\n",
    "17787 = bzj\n",
    "73173 = hfv\n",
    "\n",
    "Die verschlüsselte Botschaft lautet: __ykfbzjhfv__\n",
    "\n",
    "### b)\n",
    "\n",
    "Entschlüsseln Sie die Botschaft (0, 149578, 35224)\n",
    "\n",
    "Ansatz: Mithilfe von Primfaktorzerlegung p und q bestimmen um dann den geheimen Schlüssel von Alice zu berechnen:"
   ]
  },
  {
   "cell_type": "code",
   "execution_count": 17,
   "metadata": {},
   "outputs": [
    {
     "name": "stdout",
     "output_type": "stream",
     "text": [
      "[461, 593]\n"
     ]
    }
   ],
   "source": [
    "def primfaktorzerlegung(zahl):\n",
    "    faktoren = []\n",
    "    i = 2\n",
    "    while zahl > 1:\n",
    "        if zahl % i == 0:\n",
    "            faktoren.append(i)\n",
    "            zahl = zahl / i\n",
    "        else:\n",
    "            i += 1\n",
    "    return faktoren\n",
    "\n",
    "print(primfaktorzerlegung(273373))"
   ]
  },
  {
   "attachments": {},
   "cell_type": "markdown",
   "metadata": {},
   "source": [
    "p = 461, q=593, $\\phi(N)$ = 460*592 = 272320\n",
    "\n",
    "Da wir nun $\\phi(N)$ haben können wir Mithilfe des erweiterten euklidischen Algorithmus d bestimmen damit wir mit den geheimen Schlüssel die Nachricht entschlüsseln können. \n",
    "\n",
    "a         b         q         r         x          y\n",
    "272320\n",
    "...\n",
    "\n",
    "\n",
    "d = 15233\n",
    "\n",
    "Nun können wir mithilfe der Entschlüsselungsformel die Nachricht entschlüsseln\n",
    "\n",
    "$m = c^d mod N$\n",
    "\n",
    "$0^{15233}$ = $0$ mod $273373$ = $0$\n",
    "\n",
    "$149578^{15233}$ mod $273373$ = $12481$\n",
    "\n",
    "$35224^{15233}$ mod $273373$ = $4758$\n",
    "\n",
    "Die Nachricht:\n",
    "\n",
    "__abydvg__"
   ]
  },
  {
   "cell_type": "code",
   "execution_count": 32,
   "metadata": {},
   "outputs": [
    {
     "data": {
      "text/plain": [
       "6"
      ]
     },
     "execution_count": 32,
     "metadata": {},
     "output_type": "execute_result"
    }
   ],
   "source": [
    "np.mod(58, 26)"
   ]
  },
  {
   "attachments": {},
   "cell_type": "markdown",
   "metadata": {},
   "source": [
    "## Aufgabe 22)\n",
    "\n",
    "### a)\n",
    "\n",
    "(N, e) = (1007, 31)\n",
    "\n",
    "$\\phi(N)$ = 936\n",
    "\n",
    "0 = $−q^2 + (N − ϕ(N) + 1)q − N$\n",
    "\n",
    "0 = $-q^2$ + (1007 - 936 + 1)q - 1007\n",
    "\n",
    "0 = $-q^2$ + 72q - 1007\n",
    "\n",
    "$q^2$ - 72q + 1007 = 0\n",
    "\n",
    "$p-q$ Formel:\n",
    "\n",
    "$\\frac{72}{2} +- \\sqrt{\\frac{-72}{2}^2 - 1007}$ = $ 36 +- \\sqrt{36^2 - 1007}$"
   ]
  },
  {
   "cell_type": "code",
   "execution_count": 15,
   "metadata": {},
   "outputs": [
    {
     "name": "stdout",
     "output_type": "stream",
     "text": [
      "53.0\n",
      "19.0\n"
     ]
    }
   ],
   "source": [
    "print(36 + np.sqrt(36**2 - 1007))\n",
    "print(36 - np.sqrt(36**2 - 1007))"
   ]
  },
  {
   "attachments": {},
   "cell_type": "markdown",
   "metadata": {},
   "source": [
    "Dabei ist:\n",
    "\n",
    "$q_1$ = 53\n",
    "\n",
    "$q_2$ = 19\n",
    "\n",
    "Nun können wir $p_1$ und $p_2$ ausrechnen.\n",
    "\n",
    "$p_1$ = 1007 / 53 = 19\n",
    "\n",
    "$p_2$ = 1007 / 19 = 53\n",
    "\n",
    "Dadurch wissen wir nun das p und q die Zahlen 19 und 53 sind."
   ]
  },
  {
   "attachments": {},
   "cell_type": "markdown",
   "metadata": {},
   "source": [
    "### b)\n",
    "\n",
    "c = 358\n",
    "\n",
    "(N, e) = (1007, 31)\n",
    "\n",
    "p = 19, q = 53\n",
    "\n",
    "$\\phi(N)$ = 18*52 = 936\n",
    "\n",
    "Ansatz: Geheimen Schlüssel d mithilfe des erweiterten Euklidischen Algorithmus berechnen\n",
    "\n",
    "31 = 0 * 936 + 31  \n",
    "\n",
    "936 = 30*31 + 6     \n",
    "\n",
    "31 = 5*6 + 1         \n",
    "\n",
    "6 = 6*1               \n",
    "\n",
    "0   1\n",
    "\n",
    "1   0\n",
    "\n",
    "-30 1\n",
    "\n",
    "151 -5\n",
    "\n",
    "d = $151$\n",
    "\n",
    "$m = c^d$ mod $N$\n",
    "\n",
    "$m = 358^{151}$ mod $1007$\n",
    "\n",
    "$m = 17$\n",
    "\n",
    "$m = r$"
   ]
  },
  {
   "cell_type": "code",
   "execution_count": 34,
   "metadata": {},
   "outputs": [
    {
     "data": {
      "text/plain": [
       "17"
      ]
     },
     "execution_count": 34,
     "metadata": {},
     "output_type": "execute_result"
    }
   ],
   "source": [
    "np.mod(358**151, 1007)"
   ]
  },
  {
   "attachments": {},
   "cell_type": "markdown",
   "metadata": {},
   "source": [
    "## Aufgabe 23"
   ]
  },
  {
   "attachments": {},
   "cell_type": "markdown",
   "metadata": {},
   "source": [
    "### a)\n",
    "\n",
    "$f(e, m_{\\scriptstyle{1}}*m_{\\scriptstyle{2}}) = f(e, m_{\\scriptstyle{1}}) * f(e, m_{\\scriptstyle{2}})$\n",
    "\n",
    "$f(e, m_{\\scriptstyle{1}}) * f(e, m_{\\scriptstyle{2}}) = m_{\\scriptstyle{1}}^e mod N * m_{\\scriptstyle{2}}^e mod N$\n",
    "\n",
    "Modulare Gleichheit der Multiplikation:\n",
    "\n",
    "$m_{\\scriptstyle{1}}^e mod N * m_{\\scriptstyle{2}}^e mod N = (m_{\\scriptstyle{1}}^e * m_{\\scriptstyle{2}}^e) mod N$\n",
    "\n",
    "$(m_{\\scriptstyle{1}}^e * m_{\\scriptstyle{2}}^e) mod N = (m_{\\scriptstyle{1}} * m_{\\scriptstyle{2}})^e mod N$\n",
    "\n",
    "$(m_{\\scriptstyle{1}} * m_{\\scriptstyle{2}})^e mod N = \\underline{\\underline{f(e, m_{\\scriptstyle{1}} * m_{\\scriptstyle{2}})}}$"
   ]
  },
  {
   "attachments": {},
   "cell_type": "markdown",
   "metadata": {},
   "source": [
    "### b)\n",
    "\n",
    "aus a) $f(e, m_{\\scriptstyle{1}}*m_{\\scriptstyle{2}}) = f(e, m_{\\scriptstyle{1}}) * f(e, m_{\\scriptstyle{2}})$\n",
    "\n",
    "Und es gilt:\n",
    "$c_{\\scriptstyle{1}} = f(e, m_{\\scriptstyle{1}})$\n",
    "\n",
    "Wenn Eve einen beliebigen Text $m_{\\scriptstyle{2}}$ von Alice entschlüsseln lässt und diesen erhält, weiß Eve: \n",
    "\n",
    "$c_{\\scriptstyle{2}} = f(e, m_{\\scriptstyle{2}})$ und $m_{\\scriptstyle{2}}$ ist der entschlüsselte Text\n",
    "\n",
    "Somit sind $c_{\\scriptstyle{1}}$ und $c_{\\scriptstyle{2}}$ und $m_{\\scriptstyle{2}}$ bekannt.\n",
    "\n",
    "Es gilt:\n",
    "\n",
    "$f(e, m_{\\scriptstyle{1}}) * f(e, m_{\\scriptstyle{2}}) = c_{\\scriptstyle{1}} * c_{\\scriptstyle{2}}$\n",
    "\n",
    "$f(e, m_{\\scriptstyle{1}}*m_{\\scriptstyle{2}}) = c_{\\scriptstyle{1}} * c_{\\scriptstyle{2}} = (f(e, m_{\\scriptstyle{1}})) * (f(e, m_{\\scriptstyle{2}}))$\n",
    "\n",
    "$f(e, m_{\\scriptstyle{1}}*m_{\\scriptstyle{2}}) = \\frac{c_{\\scriptstyle{1}} * c_{\\scriptstyle{2}}}{f(e, m_{\\scriptstyle{2}})}$\n",
    "\n",
    "Dadurch, dass die multiplikative Gleichheit bei der modulo Operation gilt, kann man durch $m_{\\scriptstyle{2}}$ teilen und man erhält folgendes:\n",
    "\n",
    "$m_{\\scriptstyle{1}}^e mod N * m_{\\scriptstyle{2}}^e mod N = \\frac{c_{\\scriptstyle{1}}* c_{\\scriptstyle{2}}}{m_{\\scriptstyle{2}}^e mod N}$\n",
    "\n",
    "Nebenrechnung:\n",
    "$\\frac{m_{\\scriptstyle{1}}^e mod N * m_{\\scriptstyle{2}}^e mod N}{m_{\\scriptstyle{2}}^e mod N} = m_{\\scriptstyle{1}}^e$\n",
    "\n",
    "$\\underline{\\underline{\n",
    "m_{\\scriptstyle{1}} = \\frac{c_{\\scriptstyle{1}} * c_{\\scriptstyle{2}}}{f(e, m_{\\scriptstyle{2}})*m_{\\scriptstyle{2}}}\n",
    "}}$\n",
    "\n",
    "\n"
   ]
  },
  {
   "attachments": {},
   "cell_type": "markdown",
   "metadata": {},
   "source": [
    "### c)\n",
    "\n",
    "Übergabe der Schlüssel bereits verschlüsselt."
   ]
  },
  {
   "attachments": {},
   "cell_type": "markdown",
   "metadata": {},
   "source": [
    "## Aufgabe 24)\n",
    "\n",
    "N = pq mit p, q Primzahlen\n",
    "\n",
    "### a)\n",
    "\n",
    "$\\frac{p+q}{2} \\in \\mathbb{N}$ für p > q > 2\n",
    "\n",
    "Da p und q Primzahlen und größer 2 sind gilt, dass p und q ungerade. Das Produkt zweier ungerader Zahlen ist eine gerade Zahl, welche durch die Beschränkung p, q > 2 auch > 0 ist. Da eine gerade, positive Zahl, geteilt durch eine positive gerade Zahl auch eine positive gerade Zahl ist, gilt:\n",
    "\n",
    "$\\frac{p+q}{2} \\in \\mathbb{N}$\n",
    "\n",
    "---\n",
    "\n",
    "N = $(\\frac{p+q}{2})^2 - (\\frac{p-q}{2})^2$\n",
    "\n",
    "N = $(\\frac{p+q}{2})*(\\frac{p+q}{2}) - (\\frac{p-q}{2})*(\\frac{p-q}{2})$\n",
    "\n",
    "N = $(\\frac{p^2 + 2pq + q^2}{4}) - (\\frac{p^2 - 2pq + q^2}{4})$\n",
    "\n",
    "N = $\\frac{(p^2 + 2pq + q^2) - (p^2 - 2pq + q^2)}{4}$\n",
    "\n",
    "N = $\\frac{4pq}{4}$\n",
    "\n",
    "$\\underline{\\underline{N = pq}}$"
   ]
  },
  {
   "attachments": {},
   "cell_type": "markdown",
   "metadata": {},
   "source": [
    "### b)\n",
    "\n",
    "N = pq.\n",
    "\n",
    "Zuerst wird eine natürliche Zahl a gesucht, sodass $\\lceil \\sqrt{N} \\rceil = a^2-N$ eine Quadratzahl ist, das bedeutet, dass dieses a eine ganz Zahl ist und sehr nah an N/2 liegt. Dies liegt daran, dass a somit zwischen p und q liegt und nicht teilerfremd von N sind.\n",
    "\n",
    "Wenn nun $b = \\sqrt{a^2-N}$ gilt, wissen wir, dass b eine kleine Zahl ist.\n",
    "\n",
    "Wenn a-b und a+b Teiler von N sind, kann davon ausgegangen werden, dass a etwa in der Mitte zwischen p und q liegt. Mit b wurde eine \"Schranke\" berechnet, die auf beide Seiten von a angewendet wird, um die beiden Zahlen p und q zu berechnen.\n",
    "\n",
    "Dies ist Sinnvoll, da b klein ist und p und q sehr nah beieinander liegen und $\\sqrt{a^2-N}$ einen sehr kleinen Teiler von N darstellt.\n",
    "\n",
    "p und q werden somit von a+b und a-b repräsentiert."
   ]
  },
  {
   "attachments": {},
   "cell_type": "markdown",
   "metadata": {},
   "source": [
    "### c)\n",
    "\n",
    "N = pq = 294867870917365576583920008771513215081\n",
    "\n",
    "a = 17171717180217172000"
   ]
  },
  {
   "cell_type": "code",
   "execution_count": null,
   "metadata": {},
   "outputs": [],
   "source": [
    "import math\n",
    "\n",
    "def getPandQ(a, N):\n",
    "    print(f\"a = {a}\")\n",
    "\n",
    "    if not checkQuadratic(a, N):\n",
    "        print(f\"{a} ist nicht quadratisch\")\n",
    "        a = a+1\n",
    "        print(\"---------------\")\n",
    "        getPandQ(a, N)\n",
    "\n",
    "    b = math.sqrt((a**2)-N)\n",
    "    print(f\"b = {b}\")\n",
    "\n",
    "    p = a-b\n",
    "    q = a+b\n",
    "\n",
    "    if (N % p == 0) and (N % q == 0):\n",
    "        print(f\"p = {p}\")\n",
    "        print(f\"q = {q}\")\n",
    "        return p, q\n",
    "    \n",
    "    print(\"p oder q kein Teiler von N\")\n",
    "    a = a+1\n",
    "    print(\"---------------\")\n",
    "    getPandQ(a, N)\n",
    "\n",
    "    \n",
    "\n",
    "def checkQuadratic(a, N):\n",
    "    test = (a**2)-N\n",
    "\n",
    "    return(math.isqrt(test)**2 == test)\n",
    "\n",
    "\n",
    "\n",
    "tempN = 294867870917365576583920008771513215081\n",
    "tempA = math.isqrt(tempN) + 1\n",
    "getPandQ(tempA, tempN)\n"
   ]
  },
  {
   "attachments": {},
   "cell_type": "markdown",
   "metadata": {},
   "source": [
    "Python Kernel wird abgebrochen da zu viele Berechnungen durchgeführt werden müssen. "
   ]
  }
 ],
 "metadata": {
  "kernelspec": {
   "display_name": "base",
   "language": "python",
   "name": "python3"
  },
  "language_info": {
   "codemirror_mode": {
    "name": "ipython",
    "version": 3
   },
   "file_extension": ".py",
   "mimetype": "text/x-python",
   "name": "python",
   "nbconvert_exporter": "python",
   "pygments_lexer": "ipython3",
   "version": "3.10.9"
  },
  "orig_nbformat": 4
 },
 "nbformat": 4,
 "nbformat_minor": 2
}
